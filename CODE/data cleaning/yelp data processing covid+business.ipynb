{
 "cells": [
  {
   "cell_type": "code",
   "execution_count": 1,
   "metadata": {},
   "outputs": [],
   "source": [
    "import json\n",
    "import pandas as pd\n",
    "import numpy as np"
   ]
  },
  {
   "cell_type": "code",
   "execution_count": 1,
   "metadata": {
    "ExecuteTime": {
     "end_time": "2021-04-21T04:10:19.337641Z",
     "start_time": "2021-04-21T04:10:19.330641Z"
    }
   },
   "outputs": [],
   "source": [
    "import os\n",
    "cwd = os.getcwd()"
   ]
  },
  {
   "cell_type": "code",
   "execution_count": 2,
   "metadata": {},
   "outputs": [],
   "source": [
    "business_path_ori = cwd + \"\\\\data\\\\yelp_academic_dataset_business.json\""
   ]
  },
  {
   "cell_type": "code",
   "execution_count": 3,
   "metadata": {},
   "outputs": [],
   "source": [
    "covid_path = cwd + \"\\\\data\\\\yelp_academic_dataset_covid_features.json\"\n",
    "business_path = cwd + \"\\\\data\\\\yelp_academic_dataset_business.json\"\n",
    "user_path = cwd + \"\\\\data\\\\yelp_academic_dataset_user.json\"\n",
    "review_path = cwd + \"\\\\data\\\\yelp_academic_dataset_review.json\""
   ]
  },
  {
   "cell_type": "markdown",
   "metadata": {},
   "source": [
    "## COVID data"
   ]
  },
  {
   "cell_type": "code",
   "execution_count": 42,
   "metadata": {},
   "outputs": [],
   "source": [
    "covid_data = []\n",
    "with open(covid_path, \"r\", encoding=\"utf-8\") as f:\n",
    "    Lines = f.readlines()\n",
    "    for l in Lines:\n",
    "        covid_data.append(json.loads(l))\n",
    "covid = pd.DataFrame.from_dict(covid_data)"
   ]
  },
  {
   "cell_type": "code",
   "execution_count": 43,
   "metadata": {},
   "outputs": [],
   "source": [
    "def highlight_json(s):\n",
    "    if type(s) == str:\n",
    "        highlight = json.loads(s)\n",
    "        identifier_list = \"\"\n",
    "        for item in highlight:\n",
    "            identifier_list += item['identifier'] + \", \"\n",
    "        identifier_list = identifier_list.rsplit(', ', 1)[0]\n",
    "        return identifier_list\n",
    "    else:\n",
    "        return s\n",
    "\n",
    "str_to_int = {'FALSE':0, 'TRUE':1}\n",
    "\n",
    "column_names = covid.columns\n",
    "for col in column_names:\n",
    "    if col != \"business_id\": \n",
    "        if col in [\"highlights\", \"Covid Banner\", \"Temporary Closed Until\", \"Virtual Services Offered\"]:\n",
    "            covid.loc[covid[col] == \"FALSE\", col] = np.nan\n",
    "            if col == \"highlights\":\n",
    "                covid.highlights = covid.highlights.apply(highlight_json)\n",
    "        else:\n",
    "            covid[col] = covid[col].map(str_to_int)        "
   ]
  },
  {
   "cell_type": "code",
   "execution_count": 111,
   "metadata": {},
   "outputs": [],
   "source": [
    "covid.to_csv(\"covid.csv\", index = False)"
   ]
  },
  {
   "cell_type": "markdown",
   "metadata": {},
   "source": [
    "## Business Data"
   ]
  },
  {
   "cell_type": "code",
   "execution_count": 5,
   "metadata": {},
   "outputs": [],
   "source": [
    "business_data = []\n",
    "with open(business_path_ori, \"r\", encoding=\"utf-8\") as f:\n",
    "    Lines = f.readlines()\n",
    "    for l in Lines:\n",
    "        business_data.append(json.loads(l))\n",
    "business = pd.DataFrame.from_dict(business_data)"
   ]
  },
  {
   "cell_type": "code",
   "execution_count": 21,
   "metadata": {},
   "outputs": [],
   "source": [
    "business['is_rest'] = 0"
   ]
  },
  {
   "cell_type": "code",
   "execution_count": 4,
   "metadata": {
    "ExecuteTime": {
     "end_time": "2021-04-21T04:15:11.774480Z",
     "start_time": "2021-04-21T04:15:11.748252Z"
    }
   },
   "outputs": [
    {
     "ename": "NameError",
     "evalue": "name 'business' is not defined",
     "output_type": "error",
     "traceback": [
      "\u001b[1;31m---------------------------------------------------------------------------\u001b[0m",
      "\u001b[1;31mNameError\u001b[0m                                 Traceback (most recent call last)",
      "\u001b[1;32m<ipython-input-4-4a155aa909f1>\u001b[0m in \u001b[0;36m<module>\u001b[1;34m\u001b[0m\n\u001b[0;32m      6\u001b[0m     \u001b[1;32mreturn\u001b[0m \u001b[0mlist\u001b[0m\u001b[1;33m(\u001b[0m\u001b[0mset\u001b[0m\u001b[1;33m(\u001b[0m\u001b[0mlst1\u001b[0m\u001b[1;33m)\u001b[0m \u001b[1;33m&\u001b[0m \u001b[0mset\u001b[0m\u001b[1;33m(\u001b[0m\u001b[0mlst2\u001b[0m\u001b[1;33m)\u001b[0m\u001b[1;33m)\u001b[0m\u001b[1;33m\u001b[0m\u001b[1;33m\u001b[0m\u001b[0m\n\u001b[0;32m      7\u001b[0m \u001b[1;33m\u001b[0m\u001b[0m\n\u001b[1;32m----> 8\u001b[1;33m \u001b[1;32mfor\u001b[0m \u001b[0mi\u001b[0m \u001b[1;32min\u001b[0m \u001b[0mrange\u001b[0m\u001b[1;33m(\u001b[0m\u001b[0mbusiness\u001b[0m\u001b[1;33m.\u001b[0m\u001b[0mshape\u001b[0m\u001b[1;33m[\u001b[0m\u001b[1;36m0\u001b[0m\u001b[1;33m]\u001b[0m\u001b[1;33m)\u001b[0m\u001b[1;33m:\u001b[0m\u001b[1;33m\u001b[0m\u001b[1;33m\u001b[0m\u001b[0m\n\u001b[0m\u001b[0;32m      9\u001b[0m     \u001b[0mcat\u001b[0m \u001b[1;33m=\u001b[0m \u001b[0mbusiness\u001b[0m\u001b[1;33m.\u001b[0m\u001b[0mcategories\u001b[0m\u001b[1;33m.\u001b[0m\u001b[0miloc\u001b[0m\u001b[1;33m[\u001b[0m\u001b[0mi\u001b[0m\u001b[1;33m]\u001b[0m\u001b[1;33m\u001b[0m\u001b[1;33m\u001b[0m\u001b[0m\n\u001b[0;32m     10\u001b[0m     \u001b[1;32mif\u001b[0m \u001b[0mtype\u001b[0m\u001b[1;33m(\u001b[0m\u001b[0mcat\u001b[0m\u001b[1;33m)\u001b[0m \u001b[1;33m==\u001b[0m \u001b[0mstr\u001b[0m\u001b[1;33m:\u001b[0m\u001b[1;33m\u001b[0m\u001b[1;33m\u001b[0m\u001b[0m\n",
      "\u001b[1;31mNameError\u001b[0m: name 'business' is not defined"
     ]
    }
   ],
   "source": [
    "with open(cwd + \"\\\\yelp_restaurant_cat.txt\", \"r\") as f:\n",
    "    lines = f.readlines()\n",
    "rest_cat = [s.replace(\"\\n\",\"\") for s in lines]\n",
    "\n",
    "def intersection(lst1, lst2): \n",
    "    return list(set(lst1) & set(lst2)) \n",
    "\n",
    "for i in range(business.shape[0]):\n",
    "    cat = business.categories.iloc[i]\n",
    "    if type(cat) == str:\n",
    "        cat_list = cat.split(\", \")\n",
    "        if len(intersection(rest_cat, cat_list)) > 0:\n",
    "            business.is_rest.iloc[i] = 1"
   ]
  },
  {
   "cell_type": "code",
   "execution_count": 30,
   "metadata": {},
   "outputs": [
    {
     "name": "stderr",
     "output_type": "stream",
     "text": [
      "<ipython-input-30-eac201975f27>:11: SettingWithCopyWarning: \n",
      "A value is trying to be set on a copy of a slice from a DataFrame.\n",
      "Try using .loc[row_indexer,col_indexer] = value instead\n",
      "\n",
      "See the caveats in the documentation: https://pandas.pydata.org/pandas-docs/stable/user_guide/indexing.html#returning-a-view-versus-a-copy\n",
      "  restaurant[\"Price_Range\"] = restaurant.attributes.apply(attributes_json)\n"
     ]
    }
   ],
   "source": [
    "restaurant = business[business.is_rest == 1]\n",
    "\n",
    "def attributes_json(s):\n",
    "    if s == None:\n",
    "        return np.nan\n",
    "    if \"RestaurantsPriceRange2\" not in s.keys():\n",
    "        return np.nan\n",
    "    else:\n",
    "        return s['RestaurantsPriceRange2']\n",
    "\n",
    "restaurant[\"Price_Range\"] = restaurant.attributes.apply(attributes_json)\n",
    "restaurant = restaurant.drop(columns = [\"address\", \"attributes\", \"hours\"])"
   ]
  },
  {
   "cell_type": "code",
   "execution_count": 62,
   "metadata": {
    "scrolled": true
   },
   "outputs": [
    {
     "data": {
      "text/plain": [
       "<AxesSubplot:xlabel='state'>"
      ]
     },
     "execution_count": 62,
     "metadata": {},
     "output_type": "execute_result"
    },
    {
     "data": {
      "image/png": "[encoded data removed]",
      "text/plain": [
       "<Figure size 432x288 with 1 Axes>"
      ]
     },
     "metadata": {
      "needs_background": "light"
     },
     "output_type": "display_data"
    }
   ],
   "source": [
    "restaurant.groupby(\"state\").agg({'business_id':'count'}).plot(kind='bar')"
   ]
  },
  {
   "cell_type": "code",
   "execution_count": 34,
   "metadata": {},
   "outputs": [],
   "source": [
    "restaurant.to_csv(\"restaurant.csv\", index = False)"
   ]
  },
  {
   "cell_type": "code",
   "execution_count": 48,
   "metadata": {},
   "outputs": [],
   "source": [
    "restaurant_covid = restaurant.merge(covid, on=\"business_id\", how=\"left\")\n",
    "\n",
    "def flatten(_2d_list):\n",
    "    flat_list = []\n",
    "    # Iterate through the outer list\n",
    "    for element in _2d_list:\n",
    "        if type(element) is list:\n",
    "            # If the element is of type list, iterate through the sublist\n",
    "            for item in element:\n",
    "                flat_list.append(item)\n",
    "        else:\n",
    "            flat_list.append(element)\n",
    "    return flat_list\n",
    "\n",
    "# Converting highlights into separate columns\n",
    "restaurant_covid.highlights = restaurant_covid.highlights.replace(np.nan, \"NA\")\n",
    "highlights_cat = restaurant_covid.highlights.unique()\n",
    "l = []\n",
    "for i in highlights_cat:\n",
    "    if i is not np.nan:\n",
    "        l.append(i.split(\", \"))\n",
    "l_flat = flatten(l)\n",
    "l_flat_unique = []\n",
    "for i in set(l_flat):\n",
    "    if \"during_covid_19\" in i:\n",
    "        l_flat_unique.append(i)\n",
    "for col in l_flat_unique:\n",
    "    restaurant_covid[col] = 0\n",
    "for i, h in enumerate(restaurant_covid.highlights):\n",
    "    for col in l_flat_unique:\n",
    "        restaurant_covid[col].iloc[i] = 1 if col in h else 0 "
   ]
  },
  {
   "cell_type": "code",
   "execution_count": 54,
   "metadata": {},
   "outputs": [
    {
     "data": {
      "text/html": [
       "<div>\n",
       "<style scoped>\n",
       "    .dataframe tbody tr th:only-of-type {\n",
       "        vertical-align: middle;\n",
       "    }\n",
       "\n",
       "    .dataframe tbody tr th {\n",
       "        vertical-align: top;\n",
       "    }\n",
       "\n",
       "    .dataframe thead th {\n",
       "        text-align: right;\n",
       "    }\n",
       "</style>\n",
       "<table border=\"1\" class=\"dataframe\">\n",
       "  <thead>\n",
       "    <tr style=\"text-align: right;\">\n",
       "      <th></th>\n",
       "      <th>business_id</th>\n",
       "      <th>name</th>\n",
       "      <th>city</th>\n",
       "      <th>state</th>\n",
       "      <th>postal_code</th>\n",
       "      <th>latitude</th>\n",
       "      <th>longitude</th>\n",
       "      <th>stars</th>\n",
       "      <th>review_count</th>\n",
       "      <th>is_open</th>\n",
       "      <th>...</th>\n",
       "      <th>gift_cards_during_covid_19</th>\n",
       "      <th>drive_thru_during_covid_19</th>\n",
       "      <th>delivery_during_covid_19</th>\n",
       "      <th>online_classes_during_covid_19</th>\n",
       "      <th>curbside_pickup_during_covid_19</th>\n",
       "      <th>shipping_during_covid_19</th>\n",
       "      <th>takeout_during_covid_19</th>\n",
       "      <th>curbside_drop_off_during_covid_19</th>\n",
       "      <th>remote_services_during_covid_19</th>\n",
       "      <th>mobile_services_during_covid_19</th>\n",
       "    </tr>\n",
       "  </thead>\n",
       "  <tbody>\n",
       "    <tr>\n",
       "      <th>0</th>\n",
       "      <td>pQeaRpvuhoEqudo3uymHIQ</td>\n",
       "      <td>The Empanadas House</td>\n",
       "      <td>Champaign</td>\n",
       "      <td>IL</td>\n",
       "      <td>61820</td>\n",
       "      <td>40.110446</td>\n",
       "      <td>-88.233073</td>\n",
       "      <td>4.5</td>\n",
       "      <td>5</td>\n",
       "      <td>1</td>\n",
       "      <td>...</td>\n",
       "      <td>0</td>\n",
       "      <td>0</td>\n",
       "      <td>0</td>\n",
       "      <td>0</td>\n",
       "      <td>0</td>\n",
       "      <td>0</td>\n",
       "      <td>0</td>\n",
       "      <td>0</td>\n",
       "      <td>0</td>\n",
       "      <td>0</td>\n",
       "    </tr>\n",
       "    <tr>\n",
       "      <th>1</th>\n",
       "      <td>M_guz7Dj7hX0evS672wIwA</td>\n",
       "      <td>Chocolate Shoppe Ice Cream</td>\n",
       "      <td>Middleton</td>\n",
       "      <td>WI</td>\n",
       "      <td>53562</td>\n",
       "      <td>43.105310</td>\n",
       "      <td>-89.510142</td>\n",
       "      <td>3.5</td>\n",
       "      <td>6</td>\n",
       "      <td>1</td>\n",
       "      <td>...</td>\n",
       "      <td>0</td>\n",
       "      <td>0</td>\n",
       "      <td>0</td>\n",
       "      <td>0</td>\n",
       "      <td>0</td>\n",
       "      <td>0</td>\n",
       "      <td>0</td>\n",
       "      <td>0</td>\n",
       "      <td>0</td>\n",
       "      <td>0</td>\n",
       "    </tr>\n",
       "    <tr>\n",
       "      <th>2</th>\n",
       "      <td>CsLQLiRoafpJPJSkNX2h5Q</td>\n",
       "      <td>Middle East Deli</td>\n",
       "      <td>Charlotte</td>\n",
       "      <td>NC</td>\n",
       "      <td>28205</td>\n",
       "      <td>35.194894</td>\n",
       "      <td>-80.767442</td>\n",
       "      <td>3.0</td>\n",
       "      <td>5</td>\n",
       "      <td>0</td>\n",
       "      <td>...</td>\n",
       "      <td>0</td>\n",
       "      <td>0</td>\n",
       "      <td>0</td>\n",
       "      <td>0</td>\n",
       "      <td>0</td>\n",
       "      <td>0</td>\n",
       "      <td>0</td>\n",
       "      <td>0</td>\n",
       "      <td>0</td>\n",
       "      <td>0</td>\n",
       "    </tr>\n",
       "    <tr>\n",
       "      <th>3</th>\n",
       "      <td>mKTq1T_IAplDpHUcMzOXkw</td>\n",
       "      <td>Tipsy Ryde</td>\n",
       "      <td>Gastonia</td>\n",
       "      <td>NC</td>\n",
       "      <td>28054</td>\n",
       "      <td>35.252842</td>\n",
       "      <td>-81.152698</td>\n",
       "      <td>3.5</td>\n",
       "      <td>3</td>\n",
       "      <td>1</td>\n",
       "      <td>...</td>\n",
       "      <td>0</td>\n",
       "      <td>0</td>\n",
       "      <td>0</td>\n",
       "      <td>0</td>\n",
       "      <td>0</td>\n",
       "      <td>0</td>\n",
       "      <td>0</td>\n",
       "      <td>0</td>\n",
       "      <td>0</td>\n",
       "      <td>0</td>\n",
       "    </tr>\n",
       "    <tr>\n",
       "      <th>4</th>\n",
       "      <td>eBEfgOPG7pvFhb2wcG9I7w</td>\n",
       "      <td>Philthy Phillys</td>\n",
       "      <td>Aurora</td>\n",
       "      <td>ON</td>\n",
       "      <td>L4G 7J1</td>\n",
       "      <td>44.010962</td>\n",
       "      <td>-79.448677</td>\n",
       "      <td>4.5</td>\n",
       "      <td>4</td>\n",
       "      <td>1</td>\n",
       "      <td>...</td>\n",
       "      <td>0</td>\n",
       "      <td>0</td>\n",
       "      <td>0</td>\n",
       "      <td>0</td>\n",
       "      <td>0</td>\n",
       "      <td>0</td>\n",
       "      <td>0</td>\n",
       "      <td>0</td>\n",
       "      <td>0</td>\n",
       "      <td>0</td>\n",
       "    </tr>\n",
       "  </tbody>\n",
       "</table>\n",
       "<p>5 rows × 32 columns</p>\n",
       "</div>"
      ],
      "text/plain": [
       "              business_id                        name       city state  \\\n",
       "0  pQeaRpvuhoEqudo3uymHIQ         The Empanadas House  Champaign    IL   \n",
       "1  M_guz7Dj7hX0evS672wIwA  Chocolate Shoppe Ice Cream  Middleton    WI   \n",
       "2  CsLQLiRoafpJPJSkNX2h5Q            Middle East Deli  Charlotte    NC   \n",
       "3  mKTq1T_IAplDpHUcMzOXkw                  Tipsy Ryde   Gastonia    NC   \n",
       "4  eBEfgOPG7pvFhb2wcG9I7w             Philthy Phillys     Aurora    ON   \n",
       "\n",
       "  postal_code   latitude  longitude  stars  review_count  is_open  ...  \\\n",
       "0       61820  40.110446 -88.233073    4.5             5        1  ...   \n",
       "1       53562  43.105310 -89.510142    3.5             6        1  ...   \n",
       "2       28205  35.194894 -80.767442    3.0             5        0  ...   \n",
       "3       28054  35.252842 -81.152698    3.5             3        1  ...   \n",
       "4     L4G 7J1  44.010962 -79.448677    4.5             4        1  ...   \n",
       "\n",
       "  gift_cards_during_covid_19  drive_thru_during_covid_19  \\\n",
       "0                          0                           0   \n",
       "1                          0                           0   \n",
       "2                          0                           0   \n",
       "3                          0                           0   \n",
       "4                          0                           0   \n",
       "\n",
       "  delivery_during_covid_19 online_classes_during_covid_19  \\\n",
       "0                        0                              0   \n",
       "1                        0                              0   \n",
       "2                        0                              0   \n",
       "3                        0                              0   \n",
       "4                        0                              0   \n",
       "\n",
       "   curbside_pickup_during_covid_19  shipping_during_covid_19  \\\n",
       "0                                0                         0   \n",
       "1                                0                         0   \n",
       "2                                0                         0   \n",
       "3                                0                         0   \n",
       "4                                0                         0   \n",
       "\n",
       "   takeout_during_covid_19  curbside_drop_off_during_covid_19  \\\n",
       "0                        0                                  0   \n",
       "1                        0                                  0   \n",
       "2                        0                                  0   \n",
       "3                        0                                  0   \n",
       "4                        0                                  0   \n",
       "\n",
       "  remote_services_during_covid_19 mobile_services_during_covid_19  \n",
       "0                               0                               0  \n",
       "1                               0                               0  \n",
       "2                               0                               0  \n",
       "3                               0                               0  \n",
       "4                               0                               0  \n",
       "\n",
       "[5 rows x 32 columns]"
      ]
     },
     "execution_count": 54,
     "metadata": {},
     "output_type": "execute_result"
    }
   ],
   "source": [
    "restaurant_covid.head()"
   ]
  },
  {
   "cell_type": "code",
   "execution_count": 52,
   "metadata": {},
   "outputs": [
    {
     "data": {
      "text/plain": [
       "(79455, 32)"
      ]
     },
     "execution_count": 52,
     "metadata": {},
     "output_type": "execute_result"
    }
   ],
   "source": [
    "restaurant_covid.shape"
   ]
  },
  {
   "cell_type": "code",
   "execution_count": 51,
   "metadata": {},
   "outputs": [
    {
     "data": {
      "text/plain": [
       "Index(['business_id', 'name', 'city', 'state', 'postal_code', 'latitude',\n",
       "       'longitude', 'stars', 'review_count', 'is_open', 'categories',\n",
       "       'is_rest', 'Price_Range', 'highlights', 'delivery or takeout',\n",
       "       'Grubhub enabled', 'Call To Action enabled', 'Request a Quote Enabled',\n",
       "       'Covid Banner', 'Temporary Closed Until', 'Virtual Services Offered',\n",
       "       'virtual_estimates_during_covid_19', 'gift_cards_during_covid_19',\n",
       "       'drive_thru_during_covid_19', 'delivery_during_covid_19',\n",
       "       'online_classes_during_covid_19', 'curbside_pickup_during_covid_19',\n",
       "       'shipping_during_covid_19', 'takeout_during_covid_19',\n",
       "       'curbside_drop_off_during_covid_19', 'remote_services_during_covid_19',\n",
       "       'mobile_services_during_covid_19'],\n",
       "      dtype='object')"
      ]
     },
     "execution_count": 51,
     "metadata": {},
     "output_type": "execute_result"
    }
   ],
   "source": [
    "restaurant_covid.columns"
   ]
  },
  {
   "cell_type": "code",
   "execution_count": 53,
   "metadata": {},
   "outputs": [],
   "source": [
    "restaurant_covid.to_csv(\"restaurant_covid.csv\", index = False)"
   ]
  }
 ],
 "metadata": {
  "kernelspec": {
   "display_name": "Python 3",
   "language": "python",
   "name": "python3"
  },
  "language_info": {
   "codemirror_mode": {
    "name": "ipython",
    "version": 3
   },
   "file_extension": ".py",
   "mimetype": "text/x-python",
   "name": "python",
   "nbconvert_exporter": "python",
   "pygments_lexer": "ipython3",
   "version": "3.8.5"
  },
  "latex_envs": {
   "LaTeX_envs_menu_present": true,
   "autoclose": false,
   "autocomplete": true,
   "bibliofile": "biblio.bib",
   "cite_by": "apalike",
   "current_citInitial": 1,
   "eqLabelWithNumbers": true,
   "eqNumInitial": 1,
   "hotkeys": {
    "equation": "Ctrl-E",
    "itemize": "Ctrl-I"
   },
   "labels_anchors": false,
   "latex_user_defs": false,
   "report_style_numbering": false,
   "user_envs_cfg": false
  },
  "toc": {
   "base_numbering": 1,
   "nav_menu": {},
   "number_sections": true,
   "sideBar": true,
   "skip_h1_title": false,
   "title_cell": "Table of Contents",
   "title_sidebar": "Contents",
   "toc_cell": false,
   "toc_position": {},
   "toc_section_display": true,
   "toc_window_display": false
  },
  "varInspector": {
   "cols": {
    "lenName": 16,
    "lenType": 16,
    "lenVar": 40
   },
   "kernels_config": {
    "python": {
     "delete_cmd_postfix": "",
     "delete_cmd_prefix": "del ",
     "library": "var_list.py",
     "varRefreshCmd": "print(var_dic_list())"
    },
    "r": {
     "delete_cmd_postfix": ") ",
     "delete_cmd_prefix": "rm(",
     "library": "var_list.r",
     "varRefreshCmd": "cat(var_dic_list()) "
    }
   },
   "types_to_exclude": [
    "module",
    "function",
    "builtin_function_or_method",
    "instance",
    "_Feature"
   ],
   "window_display": true
  }
 },
 "nbformat": 4,
 "nbformat_minor": 5
}
