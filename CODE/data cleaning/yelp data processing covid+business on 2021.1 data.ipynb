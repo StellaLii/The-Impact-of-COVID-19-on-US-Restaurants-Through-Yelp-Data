{
 "cells": [
  {
   "cell_type": "code",
   "execution_count": 2,
   "metadata": {},
   "outputs": [],
   "source": [
    "import json\n",
    "import pandas as pd\n",
    "import numpy as np"
   ]
  },
  {
   "cell_type": "code",
   "execution_count": 1,
   "metadata": {
    "ExecuteTime": {
     "end_time": "2021-04-21T04:24:00.097282Z",
     "start_time": "2021-04-21T04:24:00.085282Z"
    }
   },
   "outputs": [],
   "source": [
    "import os\n",
    "cwd = os.getcwd()"
   ]
  },
  {
   "cell_type": "code",
   "execution_count": 4,
   "metadata": {},
   "outputs": [],
   "source": [
    "business_path_ori = cwd + \"\\\\data\\\\yelp_academic_dataset_business.json\""
   ]
  },
  {
   "cell_type": "code",
   "execution_count": 3,
   "metadata": {},
   "outputs": [],
   "source": [
    "covid_path =  cwd +\"\\\\data\\\\yelp_academic_dataset_covid_features.json\"\n",
    "business_path_new = cwd + \"\\\\data\\\\yelp_academic_dataset_business.json\"\n",
    "user_path =  cwd +\"\\\\data\\\\yelp_academic_dataset_user.json\"\n",
    "review_path = cwd + \"\\\\data\\\\yelp_academic_dataset_review.json\""
   ]
  },
  {
   "cell_type": "markdown",
   "metadata": {},
   "source": [
    "## COVID data"
   ]
  },
  {
   "cell_type": "code",
   "execution_count": 10,
   "metadata": {},
   "outputs": [],
   "source": [
    "covid_data = []\n",
    "with open(covid_path, \"r\", encoding=\"utf-8\") as f:\n",
    "    Lines = f.readlines()\n",
    "    for l in Lines:\n",
    "        covid_data.append(json.loads(l))\n",
    "covid = pd.DataFrame.from_dict(covid_data)"
   ]
  },
  {
   "cell_type": "code",
   "execution_count": 11,
   "metadata": {},
   "outputs": [],
   "source": [
    "def highlight_json(s):\n",
    "    if type(s) == str:\n",
    "        highlight = json.loads(s)\n",
    "        identifier_list = \"\"\n",
    "        for item in highlight:\n",
    "            identifier_list += item['identifier'] + \", \"\n",
    "        identifier_list = identifier_list.rsplit(', ', 1)[0]\n",
    "        return identifier_list\n",
    "    else:\n",
    "        return s\n",
    "\n",
    "str_to_int = {'FALSE':0, 'TRUE':1}\n",
    "\n",
    "column_names = covid.columns\n",
    "for col in column_names:\n",
    "    if col != \"business_id\": \n",
    "        if col in [\"highlights\", \"Covid Banner\", \"Temporary Closed Until\", \"Virtual Services Offered\"]:\n",
    "            covid.loc[covid[col] == \"FALSE\", col] = np.nan\n",
    "            if col == \"highlights\":\n",
    "                covid.highlights = covid.highlights.apply(highlight_json)\n",
    "        else:\n",
    "            covid[col] = covid[col].map(str_to_int)        "
   ]
  },
  {
   "cell_type": "code",
   "execution_count": null,
   "metadata": {},
   "outputs": [],
   "source": [
    "covid.to_csv(\"covid.csv\", index = False)"
   ]
  },
  {
   "cell_type": "markdown",
   "metadata": {},
   "source": [
    "## Business Data"
   ]
  },
  {
   "cell_type": "code",
   "execution_count": 5,
   "metadata": {},
   "outputs": [],
   "source": [
    "business_data = []\n",
    "with open(business_path_new, \"r\", encoding=\"utf-8\") as f:\n",
    "    Lines = f.readlines()\n",
    "    for l in Lines:\n",
    "        business_data.append(json.loads(l))\n",
    "business = pd.DataFrame.from_dict(business_data)"
   ]
  },
  {
   "cell_type": "code",
   "execution_count": 6,
   "metadata": {},
   "outputs": [],
   "source": [
    "business['is_rest'] = 0"
   ]
  },
  {
   "cell_type": "code",
   "execution_count": 7,
   "metadata": {},
   "outputs": [
    {
     "name": "stderr",
     "output_type": "stream",
     "text": [
      "C:\\Users\\hefzh\\anaconda3\\lib\\site-packages\\pandas\\core\\indexing.py:1637: SettingWithCopyWarning: \n",
      "A value is trying to be set on a copy of a slice from a DataFrame\n",
      "\n",
      "See the caveats in the documentation: https://pandas.pydata.org/pandas-docs/stable/user_guide/indexing.html#returning-a-view-versus-a-copy\n",
      "  self._setitem_single_block(indexer, value, name)\n"
     ]
    }
   ],
   "source": [
    "with open(\"yelp_restaurant_cat.txt\", \"r\") as f:\n",
    "    lines = f.readlines()\n",
    "rest_cat = [s.replace(\"\\n\",\"\") for s in lines]\n",
    "\n",
    "def intersection(lst1, lst2): \n",
    "    return list(set(lst1) & set(lst2)) \n",
    "\n",
    "for i in range(business.shape[0]):\n",
    "    cat = business.categories.iloc[i]\n",
    "    if type(cat) == str:\n",
    "        cat_list = cat.split(\", \")\n",
    "        if len(intersection(rest_cat, cat_list)) > 0:\n",
    "            business.is_rest.iloc[i] = 1"
   ]
  },
  {
   "cell_type": "code",
   "execution_count": 8,
   "metadata": {},
   "outputs": [
    {
     "name": "stderr",
     "output_type": "stream",
     "text": [
      "<ipython-input-8-eac201975f27>:11: SettingWithCopyWarning: \n",
      "A value is trying to be set on a copy of a slice from a DataFrame.\n",
      "Try using .loc[row_indexer,col_indexer] = value instead\n",
      "\n",
      "See the caveats in the documentation: https://pandas.pydata.org/pandas-docs/stable/user_guide/indexing.html#returning-a-view-versus-a-copy\n",
      "  restaurant[\"Price_Range\"] = restaurant.attributes.apply(attributes_json)\n"
     ]
    }
   ],
   "source": [
    "restaurant = business[business.is_rest == 1]\n",
    "\n",
    "def attributes_json(s):\n",
    "    if s == None:\n",
    "        return np.nan\n",
    "    if \"RestaurantsPriceRange2\" not in s.keys():\n",
    "        return np.nan\n",
    "    else:\n",
    "        return s['RestaurantsPriceRange2']\n",
    "\n",
    "restaurant[\"Price_Range\"] = restaurant.attributes.apply(attributes_json)\n",
    "restaurant = restaurant.drop(columns = [\"address\", \"attributes\", \"hours\"])"
   ]
  },
  {
   "cell_type": "code",
   "execution_count": null,
   "metadata": {
    "scrolled": true
   },
   "outputs": [],
   "source": [
    "restaurant.groupby(\"state\").agg({'business_id':'count'}).plot(kind='bar')"
   ]
  },
  {
   "cell_type": "code",
   "execution_count": null,
   "metadata": {},
   "outputs": [],
   "source": [
    "restaurant.to_csv(\"restaurant_2021.csv\", index = False)"
   ]
  },
  {
   "cell_type": "code",
   "execution_count": 2,
   "metadata": {},
   "outputs": [],
   "source": [
    "covid = pd.read_csv(\"covid.csv\")\n",
    "restaurant = pd.read_csv(\"restaurant_2021.csv\")"
   ]
  },
  {
   "cell_type": "code",
   "execution_count": 20,
   "metadata": {},
   "outputs": [],
   "source": [
    "# COVID is not connected with restaurant 2021 so below is unnecessary\n",
    "def flatten(_2d_list):\n",
    "    flat_list = []\n",
    "    # Iterate through the outer list\n",
    "    for element in _2d_list:\n",
    "        if type(element) is list:\n",
    "            # If the element is of type list, iterate through the sublist\n",
    "            for item in element:\n",
    "                flat_list.append(item)\n",
    "        else:\n",
    "            flat_list.append(element)\n",
    "    return flat_list\n",
    "\n",
    "# Converting highlights into separate columns\n",
    "restaurant_covid.highlights = restaurant_covid.highlights.replace(np.nan, \"NA\")\n",
    "highlights_cat = restaurant_covid.highlights.unique()\n",
    "l = []\n",
    "for i in highlights_cat:\n",
    "    if i is not np.nan:\n",
    "        l.append(i.split(\", \"))\n",
    "l_flat = flatten(l)\n",
    "l_flat_unique = []\n",
    "for i in set(l_flat):\n",
    "    if \"during_covid_19\" in i:\n",
    "        l_flat_unique.append(i)\n",
    "for col in l_flat_unique:\n",
    "    restaurant_covid[col] = 0\n",
    "for i, h in enumerate(restaurant_covid.highlights):\n",
    "    for col in l_flat_unique:\n",
    "        restaurant_covid[col].iloc[i] = 1 if col in h else 0 "
   ]
  },
  {
   "cell_type": "code",
   "execution_count": null,
   "metadata": {},
   "outputs": [],
   "source": [
    "restaurant_covid"
   ]
  },
  {
   "cell_type": "code",
   "execution_count": 21,
   "metadata": {},
   "outputs": [
    {
     "data": {
      "text/plain": [
       "0        NA\n",
       "1        NA\n",
       "2        NA\n",
       "3        NA\n",
       "4        NA\n",
       "         ..\n",
       "62716    NA\n",
       "62717    NA\n",
       "62718    NA\n",
       "62719    NA\n",
       "62720    NA\n",
       "Name: highlights, Length: 62721, dtype: object"
      ]
     },
     "execution_count": 21,
     "metadata": {},
     "output_type": "execute_result"
    }
   ],
   "source": [
    "restaurant_covid.highlights"
   ]
  },
  {
   "cell_type": "code",
   "execution_count": null,
   "metadata": {},
   "outputs": [],
   "source": [
    "restaurant_covid.columns"
   ]
  },
  {
   "cell_type": "code",
   "execution_count": null,
   "metadata": {},
   "outputs": [],
   "source": [
    "restaurant_covid.to_csv(\"restaurant_covid_2021.csv\", index = False)"
   ]
  }
 ],
 "metadata": {
  "kernelspec": {
   "display_name": "Python 3",
   "language": "python",
   "name": "python3"
  },
  "language_info": {
   "codemirror_mode": {
    "name": "ipython",
    "version": 3
   },
   "file_extension": ".py",
   "mimetype": "text/x-python",
   "name": "python",
   "nbconvert_exporter": "python",
   "pygments_lexer": "ipython3",
   "version": "3.8.5"
  },
  "latex_envs": {
   "LaTeX_envs_menu_present": true,
   "autoclose": false,
   "autocomplete": true,
   "bibliofile": "biblio.bib",
   "cite_by": "apalike",
   "current_citInitial": 1,
   "eqLabelWithNumbers": true,
   "eqNumInitial": 1,
   "hotkeys": {
    "equation": "Ctrl-E",
    "itemize": "Ctrl-I"
   },
   "labels_anchors": false,
   "latex_user_defs": false,
   "report_style_numbering": false,
   "user_envs_cfg": false
  },
  "toc": {
   "base_numbering": 1,
   "nav_menu": {},
   "number_sections": true,
   "sideBar": true,
   "skip_h1_title": false,
   "title_cell": "Table of Contents",
   "title_sidebar": "Contents",
   "toc_cell": false,
   "toc_position": {},
   "toc_section_display": true,
   "toc_window_display": false
  },
  "varInspector": {
   "cols": {
    "lenName": 16,
    "lenType": 16,
    "lenVar": 40
   },
   "kernels_config": {
    "python": {
     "delete_cmd_postfix": "",
     "delete_cmd_prefix": "del ",
     "library": "var_list.py",
     "varRefreshCmd": "print(var_dic_list())"
    },
    "r": {
     "delete_cmd_postfix": ") ",
     "delete_cmd_prefix": "rm(",
     "library": "var_list.r",
     "varRefreshCmd": "cat(var_dic_list()) "
    }
   },
   "types_to_exclude": [
    "module",
    "function",
    "builtin_function_or_method",
    "instance",
    "_Feature"
   ],
   "window_display": true
  }
 },
 "nbformat": 4,
 "nbformat_minor": 5
}
